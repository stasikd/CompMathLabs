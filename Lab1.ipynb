{
 "cells": [
  {
   "cell_type": "markdown",
   "metadata": {},
   "source": [
    "#### Лабораторная работа \n",
    "#### Нелинейные уравнения и системы уравнений\n",
    "Распад разрыва с возникновением двух ударных волн.\n",
    "\n",
    "Пусть в начальный момент все пространство можно разделить на два однородных полупространства, граница между которыми проходит по плоскости разрыва (индекс 0 соответствует газодинамическим величинам справа от плоскости, индекс 3 - слева). Со временем в результате распада разрыва по правому и левому полупросранствам начинают распространяться две ударные волны (индекс 1 - за правой ударной волной, индекс 2 - за левой). \n",
    "\n",
    "Записывая три основных закона сохранения массы, количества движения и энергии на левой и правой ударных волнах и условия непрерывности давления и массовой скорости на контактном разрыве, преобразуя их, можно получить алгебраическое уравнение шестой степени вида:\n",
    "\n",
    "\\begin{equation}\n",
    "    a_0Y^6 + a_1Y^5 + a_2Y^4 + a_3Y^3 + a_4Y^2 + a_5Y + a_6 = 0\n",
    "\\end{equation}\n",
    "\n",
    "Выражения для коэффициентов $a_i$ приведены ниже.\n",
    "\n",
    "$P$ - давление в среде;\n",
    "$U$ - массовая скорость;\n",
    "$D$ - скорость перемещения разрыва в лабораторной системе координат."
   ]
  },
  {
   "cell_type": "code",
   "execution_count": 33,
   "metadata": {},
   "outputs": [],
   "source": [
    "from numpy import *"
   ]
  },
  {
   "cell_type": "markdown",
   "metadata": {},
   "source": [
    "Начальные данные"
   ]
  },
  {
   "cell_type": "code",
   "execution_count": 63,
   "metadata": {},
   "outputs": [],
   "source": [
    "G0 = 1.666667\n",
    "Ro0 = 7.9\n",
    "P0 = 3.04 * 10**9\n",
    "U0 = -2.72 * 10**4\n",
    "G3 = 7.0 / 5\n",
    "Ro3 = 11.37\n",
    "U3 = 2.28 * 10**4\n",
    "P3 = 1.17928 * 10**9"
   ]
  },
  {
   "cell_type": "code",
   "execution_count": 35,
   "metadata": {},
   "outputs": [],
   "source": [
    "C3 = sqrt(G3 * (P3 / Ro3))\n",
    "C0 = sqrt(G0 * (P0 / Ro0))\n",
    "X = P3 / P0\n",
    "alpha0 = (G0 + 1) / (G0 - 1)\n",
    "alpha3 = (G3 + 1) / (G3 - 1)\n",
    "e3 = 2 * C3**2 / (G3 * (G3 - 1) * (U3 - U0)**2)\n",
    "e0 = 2 * C0**2 / (G0 * (G0 - 1) * (U3 - U0)**2)"
   ]
  },
  {
   "cell_type": "code",
   "execution_count": 36,
   "metadata": {},
   "outputs": [
    {
     "data": {
      "text/plain": [
       "0.06004369414360535"
      ]
     },
     "execution_count": 36,
     "metadata": {},
     "output_type": "execute_result"
    }
   ],
   "source": [
    "a0 = (alpha0 * e3 - alpha3 * X * e0)**2\n",
    "a0"
   ]
  },
  {
   "cell_type": "code",
   "execution_count": 37,
   "metadata": {},
   "outputs": [
    {
     "data": {
      "text/plain": [
       "-36.268390540081526"
      ]
     },
     "execution_count": 37,
     "metadata": {},
     "output_type": "execute_result"
    }
   ],
   "source": [
    "a1 = 2*((alpha0*e3-alpha3*X*e0)*(e3*(1-2*alpha0*X)-e0*X*(X-2*alpha3))-alpha0*alpha3*X*(alpha0*e3+alpha3*X*e0))\n",
    "a1"
   ]
  },
  {
   "cell_type": "code",
   "execution_count": 38,
   "metadata": {},
   "outputs": [
    {
     "data": {
      "text/plain": [
       "125.55364653885911"
      ]
     },
     "execution_count": 38,
     "metadata": {},
     "output_type": "execute_result"
    }
   ],
   "source": [
    "a2 = e3*e3*(6*alpha0*alpha0*X*X-8*alpha0*X+1)-2*e0*e3*X*(alpha0*alpha3*(X*X+4*X+1)-2*(X+1)*(alpha3+alpha0*X)+X)+e0*e0*X*X*(6*alpha3*alpha3-8*alpha3*X+X*X)+alpha0*alpha0*alpha3*alpha3*X*X-2*alpha0*X*e3*(alpha0*X-2*alpha0*alpha3*X+2*alpha3)-2*alpha3*X*X*e0*(alpha3+2*alpha0*X-2*alpha0*alpha3)\n",
    "a2"
   ]
  },
  {
   "cell_type": "code",
   "execution_count": 39,
   "metadata": {},
   "outputs": [
    {
     "data": {
      "text/plain": [
       "48.78769770219616"
      ]
     },
     "execution_count": 39,
     "metadata": {},
     "output_type": "execute_result"
    }
   ],
   "source": [
    "a3 = -2*X*(2*e3*e3*(alpha0*alpha0*X*X-3*alpha0*X+1)+e0*e3*((alpha3+alpha0*X)*(X*X+4*X+1)-2*alpha0*alpha3*X*(X+1)-2*X*(X+1))+2*e0*e0*X*(X*X-3*alpha3*X+alpha3*alpha3)-alpha0*alpha3*X*(alpha0*X+alpha3)+e3*(alpha0*alpha0*alpha3*X*X-2*X*(2*alpha0*alpha3+alpha0*alpha0*X)+(2*alpha0*X+alpha3))+e0*X*(alpha0*alpha3*alpha3-2*alpha3*(alpha3+2*alpha0*X)+2*alpha3*X+alpha0*X*X))\n",
    "a3"
   ]
  },
  {
   "cell_type": "code",
   "execution_count": 40,
   "metadata": {},
   "outputs": [
    {
     "data": {
      "text/plain": [
       "5.813227115052247"
      ]
     },
     "execution_count": 40,
     "metadata": {},
     "output_type": "execute_result"
    }
   ],
   "source": [
    "a4 = X*X*(e3*e3*(alpha0*alpha0*X*X-8*alpha0*X+6)-2*e0*e3*(alpha0*alpha3*X-2*(X+1)*(alpha3+alpha0*X)+X*X+4*X+1)+e0*e0*(alpha3*alpha3-8*alpha3*X+6*X*X)+(alpha3*alpha3+4*alpha0*alpha3*X+alpha0*alpha0*X*X)-2*e3*((alpha0*alpha0*X+2*alpha0*alpha3)*X-2*(2*alpha0*X+alpha3)+1)-2*e0*(alpha3*(2*alpha0*X+alpha3)-2*X*(2*alpha3+alpha0*X)+X*X))\n",
    "a4"
   ]
  },
  {
   "cell_type": "code",
   "execution_count": 41,
   "metadata": {},
   "outputs": [
    {
     "data": {
      "text/plain": [
       "0.09525219907497909"
      ]
     },
     "execution_count": 41,
     "metadata": {},
     "output_type": "execute_result"
    }
   ],
   "source": [
    "a5 = 2*X*X*X*(e3*e3*(alpha0*X-2)-e0*e3*(alpha0*X-2+alpha3-2*X)+e0*e0*(alpha3-2*X)+(alpha3+alpha0*X)-e3*(2*alpha0*X+alpha3-2)-e0*(2*alpha3+alpha0*X-2*X))\n",
    "a5"
   ]
  },
  {
   "cell_type": "code",
   "execution_count": 42,
   "metadata": {},
   "outputs": [
    {
     "data": {
      "text/plain": [
       "-0.0061986737192730535"
      ]
     },
     "execution_count": 42,
     "metadata": {},
     "output_type": "execute_result"
    }
   ],
   "source": [
    "a6 = X**4*((e3-e0)*(e3-e0)+1-2*(e3+e0))\n",
    "a6"
   ]
  },
  {
   "cell_type": "code",
   "execution_count": 43,
   "metadata": {},
   "outputs": [
    {
     "data": {
      "text/plain": [
       "[0.06004369414360535,\n",
       " -36.268390540081526,\n",
       " 125.55364653885911,\n",
       " 48.78769770219616,\n",
       " 5.813227115052247,\n",
       " 0.09525219907497909,\n",
       " -0.0061986737192730535]"
      ]
     },
     "execution_count": 43,
     "metadata": {},
     "output_type": "execute_result"
    }
   ],
   "source": [
    "coefs = [a0, a1, a2, a3, a4, a5, a6]\n",
    "coefs"
   ]
  },
  {
   "cell_type": "code",
   "execution_count": 44,
   "metadata": {},
   "outputs": [],
   "source": [
    "A = max(coefs[1:])\n",
    "B = max(coefs[:5])"
   ]
  },
  {
   "cell_type": "code",
   "execution_count": 45,
   "metadata": {},
   "outputs": [
    {
     "data": {
      "text/plain": [
       "125.55364653885911"
      ]
     },
     "execution_count": 45,
     "metadata": {},
     "output_type": "execute_result"
    }
   ],
   "source": [
    "A"
   ]
  },
  {
   "cell_type": "code",
   "execution_count": 46,
   "metadata": {},
   "outputs": [
    {
     "data": {
      "text/plain": [
       "125.55364653885911"
      ]
     },
     "execution_count": 46,
     "metadata": {},
     "output_type": "execute_result"
    }
   ],
   "source": [
    "B"
   ]
  },
  {
   "cell_type": "markdown",
   "metadata": {},
   "source": [
    "Все корни нашего алгебраического уравнения шестой степени расположены на косплексной плоскости в кольце\n",
    "\n",
    "\\begin{equation}\n",
    "    \\frac{|a_n|}{|a_n| + B} \\leq |z| \\leq 1 + \\frac{A}{|a_0|}.\n",
    "\\end{equation}\n",
    "\n",
    "(Следсвие из основной теоремы алгебры комплексных чисел)"
   ]
  },
  {
   "cell_type": "code",
   "execution_count": 47,
   "metadata": {},
   "outputs": [],
   "source": [
    "left = abs(a6) / (abs(a6) + B)\n",
    "if a0 != 0:\n",
    "    right = 1 + (A / abs(a0))\n",
    "else:\n",
    "    right = 1 + (A / abs(a1))"
   ]
  },
  {
   "cell_type": "code",
   "execution_count": 48,
   "metadata": {},
   "outputs": [
    {
     "data": {
      "text/plain": [
       "4.936828098806927e-05"
      ]
     },
     "execution_count": 48,
     "metadata": {},
     "output_type": "execute_result"
    }
   ],
   "source": [
    "left"
   ]
  },
  {
   "cell_type": "code",
   "execution_count": 49,
   "metadata": {},
   "outputs": [
    {
     "data": {
      "text/plain": [
       "2092.038007064903"
      ]
     },
     "execution_count": 49,
     "metadata": {},
     "output_type": "execute_result"
    }
   ],
   "source": [
    "right"
   ]
  },
  {
   "cell_type": "markdown",
   "metadata": {},
   "source": [
    "Таким образом, все корни алгебраического уравнения расположены в кольце на комплексной плоскости $4.936828098806927e-05 \\leq |z| \\leq 2092.038007064903$\n",
    "\n",
    "Далее, всю область делим на N частей и для дальнейшего рассмотрения оставляем только те подобласти, на границах которых $f(z)$ принимает значения разных знаков (теорема Декарта)."
   ]
  },
  {
   "cell_type": "code",
   "execution_count": 50,
   "metadata": {},
   "outputs": [],
   "source": [
    "def polinom(y):\n",
    "    return a0*y**6 + a1*y**5 + a2*y**4 + a3*y**3 + a4*y**2 + a5*y**1 + a6"
   ]
  },
  {
   "cell_type": "code",
   "execution_count": 51,
   "metadata": {},
   "outputs": [],
   "source": [
    "len_root_area = right - left\n",
    "N = 3793100\n",
    "step = len_root_area / N"
   ]
  },
  {
   "cell_type": "code",
   "execution_count": 52,
   "metadata": {},
   "outputs": [],
   "source": [
    "beg = []\n",
    "end = []\n",
    "for k in range(N):\n",
    "    if sign(polinom(left + k*step)) != sign(polinom(left + (k+1)*step)):\n",
    "        beg.append((left + k*step))\n",
    "        end.append((left + (k+1)*step))"
   ]
  },
  {
   "cell_type": "code",
   "execution_count": 53,
   "metadata": {},
   "outputs": [],
   "source": [
    "num = len(beg)"
   ]
  },
  {
   "cell_type": "markdown",
   "metadata": {},
   "source": [
    "### Отрезки локализации корней"
   ]
  },
  {
   "cell_type": "code",
   "execution_count": 54,
   "metadata": {},
   "outputs": [
    {
     "data": {
      "text/plain": [
       "[0.0232139550894714, 3.8464738540515295, 600.5491323693664]"
      ]
     },
     "execution_count": 54,
     "metadata": {},
     "output_type": "execute_result"
    }
   ],
   "source": [
    "beg"
   ]
  },
  {
   "cell_type": "code",
   "execution_count": 55,
   "metadata": {},
   "outputs": [
    {
     "data": {
      "text/plain": [
       "[0.023765492870625765, 3.847025391832684, 600.5496839071475]"
      ]
     },
     "execution_count": 55,
     "metadata": {},
     "output_type": "execute_result"
    }
   ],
   "source": [
    "end"
   ]
  },
  {
   "cell_type": "markdown",
   "metadata": {},
   "source": [
    "Методом дихотомии найдем значения корней уравнения"
   ]
  },
  {
   "cell_type": "code",
   "execution_count": 56,
   "metadata": {},
   "outputs": [],
   "source": [
    "def dichotomy(func, x, y, eps):\n",
    "    middle = (x + y) / 2\n",
    "    if abs(x - y) < eps:\n",
    "        return middle\n",
    "    if func(middle)*func(x) < 0:\n",
    "        return dichotomy(func, x, middle, eps)\n",
    "    if func(middle)*func(x) > 0:\n",
    "        return dichotomy(func, middle, y, eps)"
   ]
  },
  {
   "cell_type": "code",
   "execution_count": 57,
   "metadata": {},
   "outputs": [],
   "source": [
    "x = []\n",
    "for i in range(num):\n",
    "    x.append(dichotomy(polinom, beg[i], end[i], 0.000001).round(8))"
   ]
  },
  {
   "cell_type": "markdown",
   "metadata": {},
   "source": [
    "### Корни"
   ]
  },
  {
   "cell_type": "code",
   "execution_count": 58,
   "metadata": {},
   "outputs": [
    {
     "data": {
      "text/plain": [
       "[0.02367204, 3.84685277, 600.54916711]"
      ]
     },
     "execution_count": 58,
     "metadata": {},
     "output_type": "execute_result"
    }
   ],
   "source": [
    "x"
   ]
  },
  {
   "cell_type": "markdown",
   "metadata": {},
   "source": [
    "### Исследуем первый корень"
   ]
  },
  {
   "cell_type": "code",
   "execution_count": 59,
   "metadata": {},
   "outputs": [],
   "source": [
    "y0 = x[0]\n",
    "P1 = y0 * P0\n",
    "U1 = -(P1-P0)/(Ro0*C0*sqrt(((G0-1)+(G0+1)*(P1/P0))/(2*G0)))+U0\n",
    "P2 = P1\n",
    "U2 = U1\n",
    "D0 = ((P1-P0)/Ro0+U0*U1-U0*U0)/(U1-U0)\n",
    "Ro1 = (Ro0*(U0-D0))/(U1-D0)\n",
    "D3 = ((P3-P2)/Ro3+U3*U3-U2*U3)/(U3-U2)\n",
    "Ro2 = (Ro3*(U3-D3))/(U2-D3)\n",
    "a = sqrt((P1 - P0) / (Ro1 - Ro0))\n",
    "la1 = U1 / a\n",
    "la0 = U0 / a"
   ]
  },
  {
   "cell_type": "code",
   "execution_count": 60,
   "metadata": {},
   "outputs": [
    {
     "name": "stdout",
     "output_type": "stream",
     "text": [
      "U3\t 22799.999999999996\n",
      "D3\t 28123.41600973512\n"
     ]
    }
   ],
   "source": [
    "print(\"U3\\t\", U3)\n",
    "print(\"D3\\t\", D3)"
   ]
  },
  {
   "cell_type": "markdown",
   "metadata": {},
   "source": [
    "### Исследуем второй корень"
   ]
  },
  {
   "cell_type": "code",
   "execution_count": 61,
   "metadata": {},
   "outputs": [
    {
     "name": "stdout",
     "output_type": "stream",
     "text": [
      "U3\t 22799.999999999996\n",
      "D3\t 10284.610379937918\n"
     ]
    }
   ],
   "source": [
    "y1 = x[1]\n",
    "P1 = y1 * P0\n",
    "U1 = -(P1-P0)/(Ro0*C0*sqrt(((G0-1)+(G0+1)*(P1/P0))/(2*G0)))+U0\n",
    "P2 = P1\n",
    "U2 = U1\n",
    "D0 = ((P1-P0)/Ro0+U0*U1-U0*U0)/(U1-U0)\n",
    "Ro1 = (Ro0*(U0-D0))/(U1-D0)\n",
    "D3 = ((P3-P2)/Ro3+U3*U3-U2*U3)/(U3-U2)\n",
    "Ro2 = (Ro3*(U3-D3))/(U2-D3)\n",
    "a = sqrt((P1 - P0) / (Ro1 - Ro0))\n",
    "la1 = U1 / a\n",
    "la0 = U0 / a\n",
    "print(\"U3\\t\", U3)\n",
    "print(\"D3\\t\", D3)"
   ]
  },
  {
   "cell_type": "markdown",
   "metadata": {},
   "source": [
    "### Исследуем третий корень"
   ]
  },
  {
   "cell_type": "code",
   "execution_count": 62,
   "metadata": {},
   "outputs": [
    {
     "name": "stdout",
     "output_type": "stream",
     "text": [
      "U3\t 22799.999999999996\n",
      "D3\t -321885.51358391915\n"
     ]
    }
   ],
   "source": [
    "y2 = x[2]\n",
    "P1 = y2 * P0\n",
    "U1 = -(P1-P0)/(Ro0*C0*sqrt(((G0-1)+(G0+1)*(P1/P0))/(2*G0)))+U0\n",
    "P2 = P1\n",
    "U2 = U1\n",
    "D0 = ((P1-P0)/Ro0+U0*U1-U0*U0)/(U1-U0)\n",
    "Ro1 = (Ro0*(U0-D0))/(U1-D0)\n",
    "D3 = ((P3-P2)/Ro3+U3*U3-U2*U3)/(U3-U2)\n",
    "Ro2 = (Ro3*(U3-D3))/(U2-D3)\n",
    "a = sqrt((P1 - P0) / (Ro1 - Ro0))\n",
    "la1 = U1 / a\n",
    "la0 = U0 / a\n",
    "print(\"U3\\t\", U3)\n",
    "print(\"D3\\t\", D3)"
   ]
  }
 ],
 "metadata": {
  "kernelspec": {
   "display_name": "Python 3",
   "language": "python",
   "name": "python3"
  },
  "language_info": {
   "codemirror_mode": {
    "name": "ipython",
    "version": 3
   },
   "file_extension": ".py",
   "mimetype": "text/x-python",
   "name": "python",
   "nbconvert_exporter": "python",
   "pygments_lexer": "ipython3",
   "version": "3.8.2"
  }
 },
 "nbformat": 4,
 "nbformat_minor": 4
}
