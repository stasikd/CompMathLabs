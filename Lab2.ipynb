{
 "cells": [
  {
   "cell_type": "markdown",
   "metadata": {},
   "source": [
    "#### Лабораторная работа\n",
    "Первая краевая задача для стационарного уравнения теплопроводности с кусочно-непрерывными коэффициентами\n",
    "\n",
    "Задача заключается в нахождении решения обыкновенного дифференциального уравнения второго порядка с кусочно-непрерывными коэффициентами, двумя краевыми условиями первого рода на интервале (0, 1):\n",
    "\n",
    "\\begin{equation}\n",
    "    \\frac{d}{dx}\\left[k(x)\\frac{du}{dx}\\right]-q(x)u=-f(x)\n",
    "\\end{equation}\n",
    "\\begin{equation}\n",
    "    u(0) = u^0, u(1) = u^1\n",
    "\\end{equation}\n",
    "\n",
    "Решение задачи состоит из нескольких этапов:\n",
    "\n",
    "    1. Аналитическое решение модельной задачи\n",
    "    2. Постановка разностной модельной задачи\n",
    "    3. Реализация метода встречных прогонок\n",
    "    4. Численное решение задачи с переменными коэффициентами\n",
    "    \n"
   ]
  },
  {
   "cell_type": "code",
   "execution_count": 1,
   "metadata": {},
   "outputs": [],
   "source": [
    "import numpy as np\n",
    "from math import *"
   ]
  },
  {
   "cell_type": "markdown",
   "metadata": {},
   "source": [
    "##### Описание переменных коэффициентов"
   ]
  },
  {
   "cell_type": "code",
   "execution_count": 2,
   "metadata": {},
   "outputs": [],
   "source": [
    "def ka(x):\n",
    "    return 1\n",
    "def kb(x):\n",
    "    return np.exp(np.cos(x))"
   ]
  },
  {
   "cell_type": "code",
   "execution_count": 3,
   "metadata": {},
   "outputs": [],
   "source": [
    "def qa(x):\n",
    "    return x**2\n",
    "def qb(x):\n",
    "    return x**2"
   ]
  },
  {
   "cell_type": "code",
   "execution_count": 4,
   "metadata": {},
   "outputs": [],
   "source": [
    "def fa(x):\n",
    "    return np.sin(x)\n",
    "def fb(x):\n",
    "    return np.sin(x)"
   ]
  },
  {
   "cell_type": "code",
   "execution_count": 5,
   "metadata": {},
   "outputs": [],
   "source": [
    "x0 = 0\n",
    "xL = 1\n",
    "xbp = 1 / np.sqrt(3)\n",
    "u0 = 1\n",
    "u1 = 1"
   ]
  },
  {
   "cell_type": "code",
   "execution_count": 6,
   "metadata": {},
   "outputs": [],
   "source": [
    "N = 11"
   ]
  },
  {
   "cell_type": "code",
   "execution_count": 7,
   "metadata": {},
   "outputs": [],
   "source": [
    "L = N - 1\n",
    "h = (xL - x0) / L\n",
    "x = np.zeros(N)\n",
    "for l in range(N):\n",
    "    x[l] = x0 + l * h\n",
    "    if x[l] < xbp and np.abs(x[l] - xbp) <= h:\n",
    "        la = l\n",
    "        lb = l + 1"
   ]
  },
  {
   "cell_type": "markdown",
   "metadata": {},
   "source": [
    "##### Аналитическое решение модельной задачи"
   ]
  },
  {
   "cell_type": "code",
   "execution_count": 8,
   "metadata": {},
   "outputs": [],
   "source": [
    "k_a = ka(xbp)\n",
    "k_b = kb(xbp)\n",
    "q_a = qa(xbp)\n",
    "q_b = qb(xbp)\n",
    "f_a = fa(xbp)\n",
    "f_b = fb(xbp)"
   ]
  },
  {
   "cell_type": "code",
   "execution_count": 9,
   "metadata": {},
   "outputs": [],
   "source": [
    "lambda_a = np.sqrt(q_a / k_a)\n",
    "lambda_b = np.sqrt(q_b / k_b)"
   ]
  },
  {
   "cell_type": "code",
   "execution_count": 10,
   "metadata": {},
   "outputs": [],
   "source": [
    "mu_a = f_a / q_a\n",
    "mu_b = f_b / q_b"
   ]
  },
  {
   "cell_type": "code",
   "execution_count": 11,
   "metadata": {},
   "outputs": [],
   "source": [
    "A11 = exp(-lambda_a * xbp) - exp(lambda_a * xbp)\n",
    "A12 = exp(lambda_b * (2 - xbp)) - exp(lambda_b * xbp)\n",
    "A21 = k_a * lambda_a * (exp(lambda_a * xbp) + exp(-lambda_a * xbp))\n",
    "A22 = k_b * lambda_b * (exp(lambda_b * (2 - xbp)) + exp(lambda_b * xbp))"
   ]
  },
  {
   "cell_type": "code",
   "execution_count": 12,
   "metadata": {},
   "outputs": [],
   "source": [
    "B1 = mu_b - mu_a + (mu_a - u0) * exp(lambda_a * xbp) - (mu_b - u1) * exp(lambda_b * (1 - xbp))\n",
    "B2 = k_a * lambda_a * (u0 - mu_a) * exp(lambda_a * xbp) + k_b * lambda_b * (u1 - mu_b) * exp(lambda_b * (1 - xbp))"
   ]
  },
  {
   "cell_type": "code",
   "execution_count": 13,
   "metadata": {},
   "outputs": [],
   "source": [
    "C1 = (((u0 - mu_a) * A11 - B1) * A22 - ((u0 - mu_a) * A21 - B2) * A12) / (A11 * A22 - A12 * A21)\n",
    "C2 = (B1 * A22 - B2 * A12) / (A11 * A22 - A12 * A21)\n",
    "C3 = (B2 * A11 - B1 * A21) / (A11 * A22 - A12 * A21)\n",
    "C4 = (u1 - mu_b) * exp(lambda_b) - C3 * exp(2 * lambda_b)"
   ]
  },
  {
   "cell_type": "code",
   "execution_count": 14,
   "metadata": {},
   "outputs": [],
   "source": [
    "u_0 = np.zeros(N)\n",
    "for l in range(N):\n",
    "    if l <= la:\n",
    "        u_0[l] = C1 * exp(lambda_a * x[l]) + C2 * exp(-lambda_a * x[l]) + mu_a\n",
    "    if l >= lb:\n",
    "        u_0[l] = C3 * exp(lambda_b * x[l]) + C4 * exp(-lambda_b * x[l]) + mu_b"
   ]
  },
  {
   "cell_type": "markdown",
   "metadata": {},
   "source": [
    "##### Численное решение модельной задачи"
   ]
  },
  {
   "cell_type": "code",
   "execution_count": 15,
   "metadata": {},
   "outputs": [],
   "source": [
    "a = np.zeros(N)\n",
    "b = np.zeros(N)\n",
    "c = np.zeros(N)\n",
    "d = np.zeros(N)"
   ]
  },
  {
   "cell_type": "code",
   "execution_count": 16,
   "metadata": {},
   "outputs": [],
   "source": [
    "for l in range(1, L):\n",
    "    if l <= la - 1:\n",
    "        a[l] = k_a\n",
    "        b[l] = -2 * k_a - q_a * h**2\n",
    "        c[l] = k_a\n",
    "        d[l] = -f_a * h**2\n",
    "    if l >= lb + 1:\n",
    "        a[l] = k_b\n",
    "        b[l] = -2 * k_b - q_b * h**2\n",
    "        c[l] = k_b\n",
    "        d[l] = -f_b * h**2\n",
    "        \n",
    "a[0] = 0; a[la] = 0; a[lb] = 0; a[L] = 0\n",
    "b[0] = 0; b[la] = 0; b[lb] = 0; b[L] = 0\n",
    "c[0] = 0; c[la] = 0; c[lb] = 0; c[L] = 0\n",
    "d[0] = 0; d[la] = 0; d[lb] = 0; d[L] = 0        "
   ]
  },
  {
   "cell_type": "code",
   "execution_count": 17,
   "metadata": {},
   "outputs": [],
   "source": [
    "alpha = np.zeros(N)\n",
    "beta = np.zeros(N)"
   ]
  },
  {
   "cell_type": "code",
   "execution_count": 18,
   "metadata": {},
   "outputs": [],
   "source": [
    "for l in range(1, la):\n",
    "    if l == 1:\n",
    "        alpha[1] = -a[1] / b[1]\n",
    "        beta[1] = (d[1] - c[1] * u0) / b[1]\n",
    "    else:\n",
    "        alpha[l] = -a[l] / (b[l] + c[l] * alpha[l - 1])\n",
    "        beta[l] = (d[l] - c[l] * beta[l - 1]) / (b[l] + c[l] * alpha[l - 1])\n",
    "\n",
    "for l in range(L-1, lb, -1):\n",
    "    if l == L - 1:\n",
    "        alpha[L - 1] = -c[L - 1] / b[L - 1]\n",
    "        beta[L - 1] = (d[L - 1] - a[L - 1] * u1) / b[L - 1]\n",
    "    else:\n",
    "        alpha[l] = -c[l] / (b[l] + a[l] * alpha[l + 1])\n",
    "        beta[l] = (d[l] - a[l] * beta[l + 1]) / (b[l] + a[l] * alpha[l + 1])\n",
    "        \n",
    "alpha[0] = 0; alpha[la] = 0; alpha[lb] = 0; alpha[L] = 0\n",
    "beta[0] = 0; beta[la] = 0; beta[lb] = 0; beta[L] = 0"
   ]
  },
  {
   "cell_type": "code",
   "execution_count": 19,
   "metadata": {},
   "outputs": [],
   "source": [
    "u_1 = np.zeros(N)"
   ]
  },
  {
   "cell_type": "code",
   "execution_count": 20,
   "metadata": {},
   "outputs": [],
   "source": [
    "for l in range(la, 0, -1):\n",
    "    if l == la:\n",
    "        u_1[l] = (k_a * beta[la - 1] + k_b * beta[lb + 1]) / (k_a * (1 - alpha[la - 1]) + k_b * (1 - alpha[lb + 1]))\n",
    "    else:\n",
    "        u_1[l] = alpha[l] * u_1[l + 1] + beta[l]\n",
    "        \n",
    "for l in range(lb, L):\n",
    "    if l == lb:\n",
    "        u_1[l] = (k_a * beta[la - 1] + k_b * beta[lb + 1]) / (k_a * (1 - alpha[la - 1]) + k_b * (1 - alpha[lb + 1]))\n",
    "    else:\n",
    "        u_1[l] = alpha[l] * u_1[l - 1] + beta[l]\n",
    "        \n",
    "u_1[0] = u0\n",
    "u_1[L] = u1"
   ]
  },
  {
   "cell_type": "markdown",
   "metadata": {},
   "source": [
    "##### Численное решение задачи с переменными коэффициентами"
   ]
  },
  {
   "cell_type": "code",
   "execution_count": 21,
   "metadata": {},
   "outputs": [],
   "source": [
    "k_minus = np.zeros(N)\n",
    "k_plus = np.zeros(N)\n",
    "q = np.zeros(N)\n",
    "f = np.zeros(N)"
   ]
  },
  {
   "cell_type": "code",
   "execution_count": 22,
   "metadata": {},
   "outputs": [],
   "source": [
    "for l in range(1, L):\n",
    "    if l <= la - 1:\n",
    "        k_minus[l] = ka(x[l] - h / 2)\n",
    "        k_plus[l] = ka(x[l] + h / 2)\n",
    "        q[l] = qa(x[l])\n",
    "        f[l] = fa(x[l])\n",
    "    if l >= lb + 1:\n",
    "        k_minus[l] = kb(x[l] - h / 2)\n",
    "        k_plus[l] = kb(x[l] + h / 2)\n",
    "        q[l] = qb(x[l])\n",
    "        f[l] = fb(x[l])\n",
    "        \n",
    "k_minus[0] = 0; k_minus[la] = 0; k_minus[lb] = 0; k_minus[L] = 0\n",
    "k_plus[0] = 0; k_plus[la] = 0; k_plus[lb] = 0; k_plus[L] = 0\n",
    "q[0] = 0; q[la] = 0; q[lb] = 0; q[L] = 0\n",
    "f[0] = 0; f[la] = 0; f[lb] = 0; f[L] = 0"
   ]
  },
  {
   "cell_type": "code",
   "execution_count": 23,
   "metadata": {},
   "outputs": [],
   "source": [
    "for l in range(1, L):\n",
    "    if l <= la - 1:\n",
    "        a[l] = k_plus[l]\n",
    "        b[l] = -(k_plus[l] + k_minus[l] + q[l] * h**2)\n",
    "        c[l] = k_minus[l]\n",
    "        d[l] = -f[l] * h**2\n",
    "    if l >= lb + 1:\n",
    "        a[l] = k_plus[l]\n",
    "        b[l] = -(k_plus[l] + k_minus[l] + q[l] * h**2)\n",
    "        c[l] = k_minus[l]\n",
    "        d[l] = -f[l] * h**2\n",
    "        \n",
    "a[0] = 0; a[la] = 0; a[lb] = 0; a[L] = 0\n",
    "b[0] = 0; b[la] = 0; b[lb] = 0; b[L] = 0\n",
    "c[0] = 0; c[la] = 0; c[lb] = 0; c[L] = 0\n",
    "d[0] = 0; d[la] = 0; d[lb] = 0; d[L] = 0"
   ]
  },
  {
   "cell_type": "code",
   "execution_count": 24,
   "metadata": {},
   "outputs": [],
   "source": [
    "for l in range(1, la):\n",
    "    if l == 1:\n",
    "        alpha[1] = -a[1] / b[1]\n",
    "        beta[1] = (d[1] - c[1] * u0) / b[1]\n",
    "    else:\n",
    "        alpha[l] = -a[l] / (b[l] + c[l] * alpha[l - 1])\n",
    "        beta[l] = (d[l] - c[l] * beta[l - 1]) / (b[l] + c[l] * alpha[l - 1])\n",
    "        \n",
    "for l in range(L-1, lb, -1):\n",
    "    if l == L-1:\n",
    "        alpha[L - 1] = -c[L - 1] / b[L - 1]\n",
    "        beta[L - 1] = (d[L - 1] - a[L - 1] * u1) / b[L - 1]\n",
    "    else:\n",
    "        alpha[l] = -c[l] / (b[l] + a[l] * alpha[l + 1])\n",
    "        beta[l] = (d[l] - a[l] * beta[l + 1]) / (b[l] + a[l] * alpha[l + 1])\n",
    "        \n",
    "alpha[0] = 0; alpha[la] = 0; alpha[lb] = 0; alpha[L] = 0\n",
    "beta[0] = 0; beta[la] = 0; beta[lb] = 0; beta[L] = 0"
   ]
  },
  {
   "cell_type": "code",
   "execution_count": 25,
   "metadata": {},
   "outputs": [],
   "source": [
    "u_2 = np.zeros(N)"
   ]
  },
  {
   "cell_type": "code",
   "execution_count": 26,
   "metadata": {},
   "outputs": [],
   "source": [
    "for l in range(la, 0, -1):\n",
    "    if l == la:\n",
    "        u_2[l] = (k_a * beta[la - 1] + k_b * beta[lb + 1]) / (k_a * (1 - alpha[la - 1]) + k_b * (1 - alpha[lb + 1]))\n",
    "    else:\n",
    "        u_2[l] = alpha[l] * u_2[l + 1] + beta[l]\n",
    "        \n",
    "for l in range(lb, L):\n",
    "    if l == lb:\n",
    "        u_2[l] = (k_a * beta[la - 1] + k_b * beta[lb + 1]) / (k_a * (1 - alpha[la - 1]) + k_b * (1 - alpha[lb + 1]))\n",
    "    else:\n",
    "        u_2[l] = alpha[l] * u_2[l - 1] + beta[l]\n",
    "        \n",
    "u_2[0] = u0\n",
    "u_2[L] = u1"
   ]
  },
  {
   "cell_type": "code",
   "execution_count": 27,
   "metadata": {},
   "outputs": [],
   "source": [
    "x0_out = x0\n",
    "xL_out = xL\n",
    "N_out = 11\n",
    "L_out = N_out - 1\n",
    "h_out = (xL_out - x0_out) / L"
   ]
  },
  {
   "cell_type": "code",
   "execution_count": 28,
   "metadata": {},
   "outputs": [],
   "source": [
    "x_out = np.zeros(N)"
   ]
  },
  {
   "cell_type": "code",
   "execution_count": 29,
   "metadata": {},
   "outputs": [],
   "source": [
    "for l_out in range(0, L_out+1):\n",
    "    x_out[l_out] = x0_out + l_out * h_out"
   ]
  },
  {
   "cell_type": "code",
   "execution_count": 30,
   "metadata": {},
   "outputs": [],
   "source": [
    "diff = np.zeros(N)"
   ]
  },
  {
   "cell_type": "markdown",
   "metadata": {},
   "source": [
    "##### Расчет погрешности"
   ]
  },
  {
   "cell_type": "code",
   "execution_count": 31,
   "metadata": {},
   "outputs": [],
   "source": [
    "for l_out in range(0, L_out+1):\n",
    "    for l in range(L+1):\n",
    "        diff[l] = abs(u_0[l] - u_1[l])"
   ]
  },
  {
   "cell_type": "code",
   "execution_count": 32,
   "metadata": {},
   "outputs": [],
   "source": [
    "import pandas as pd"
   ]
  },
  {
   "cell_type": "code",
   "execution_count": 33,
   "metadata": {},
   "outputs": [],
   "source": [
    "pd.options.display.float_format ='{:,.6e}'.format"
   ]
  },
  {
   "cell_type": "code",
   "execution_count": 34,
   "metadata": {},
   "outputs": [],
   "source": [
    "out_df = pd.DataFrame({\n",
    "    'x': pd.Series(x),\n",
    "    'u_0': pd.Series(u_0),\n",
    "    'u_1': pd.Series(u_1),\n",
    "    'diff': pd.Series(diff),\n",
    "    'u_2': pd.Series(u_2)\n",
    "})"
   ]
  },
  {
   "cell_type": "code",
   "execution_count": 35,
   "metadata": {},
   "outputs": [
    {
     "data": {
      "text/html": [
       "<div>\n",
       "<style scoped>\n",
       "    .dataframe tbody tr th:only-of-type {\n",
       "        vertical-align: middle;\n",
       "    }\n",
       "\n",
       "    .dataframe tbody tr th {\n",
       "        vertical-align: top;\n",
       "    }\n",
       "\n",
       "    .dataframe thead th {\n",
       "        text-align: right;\n",
       "    }\n",
       "</style>\n",
       "<table border=\"1\" class=\"dataframe\">\n",
       "  <thead>\n",
       "    <tr style=\"text-align: right;\">\n",
       "      <th></th>\n",
       "      <th>x</th>\n",
       "      <th>u_0</th>\n",
       "      <th>u_1</th>\n",
       "      <th>diff</th>\n",
       "      <th>u_2</th>\n",
       "    </tr>\n",
       "  </thead>\n",
       "  <tbody>\n",
       "    <tr>\n",
       "      <th>0</th>\n",
       "      <td>0.000000e+00</td>\n",
       "      <td>1.000000e+00</td>\n",
       "      <td>1.000000e+00</td>\n",
       "      <td>0.000000e+00</td>\n",
       "      <td>1.000000e+00</td>\n",
       "    </tr>\n",
       "    <tr>\n",
       "      <th>1</th>\n",
       "      <td>1.000000e-01</td>\n",
       "      <td>1.007475e+00</td>\n",
       "      <td>1.006074e+00</td>\n",
       "      <td>1.400951e-03</td>\n",
       "      <td>1.004449e+00</td>\n",
       "    </tr>\n",
       "    <tr>\n",
       "      <th>2</th>\n",
       "      <td>2.000000e-01</td>\n",
       "      <td>1.012849e+00</td>\n",
       "      <td>1.010043e+00</td>\n",
       "      <td>2.805989e-03</td>\n",
       "      <td>1.008000e+00</td>\n",
       "    </tr>\n",
       "    <tr>\n",
       "      <th>3</th>\n",
       "      <td>3.000000e-01</td>\n",
       "      <td>1.016141e+00</td>\n",
       "      <td>1.011921e+00</td>\n",
       "      <td>4.219802e-03</td>\n",
       "      <td>1.009967e+00</td>\n",
       "    </tr>\n",
       "    <tr>\n",
       "      <th>4</th>\n",
       "      <td>4.000000e-01</td>\n",
       "      <td>1.017361e+00</td>\n",
       "      <td>1.011714e+00</td>\n",
       "      <td>5.647106e-03</td>\n",
       "      <td>1.009888e+00</td>\n",
       "    </tr>\n",
       "    <tr>\n",
       "      <th>5</th>\n",
       "      <td>5.000000e-01</td>\n",
       "      <td>1.016514e+00</td>\n",
       "      <td>1.009422e+00</td>\n",
       "      <td>7.092659e-03</td>\n",
       "      <td>1.007531e+00</td>\n",
       "    </tr>\n",
       "    <tr>\n",
       "      <th>6</th>\n",
       "      <td>6.000000e-01</td>\n",
       "      <td>1.014075e+00</td>\n",
       "      <td>1.009422e+00</td>\n",
       "      <td>4.653397e-03</td>\n",
       "      <td>1.007531e+00</td>\n",
       "    </tr>\n",
       "    <tr>\n",
       "      <th>7</th>\n",
       "      <td>7.000000e-01</td>\n",
       "      <td>1.011914e+00</td>\n",
       "      <td>1.008430e+00</td>\n",
       "      <td>3.484352e-03</td>\n",
       "      <td>1.006511e+00</td>\n",
       "    </tr>\n",
       "    <tr>\n",
       "      <th>8</th>\n",
       "      <td>8.000000e-01</td>\n",
       "      <td>1.008851e+00</td>\n",
       "      <td>1.006531e+00</td>\n",
       "      <td>2.320223e-03</td>\n",
       "      <td>1.004697e+00</td>\n",
       "    </tr>\n",
       "    <tr>\n",
       "      <th>9</th>\n",
       "      <td>9.000000e-01</td>\n",
       "      <td>1.004882e+00</td>\n",
       "      <td>1.003722e+00</td>\n",
       "      <td>1.159330e-03</td>\n",
       "      <td>1.002364e+00</td>\n",
       "    </tr>\n",
       "    <tr>\n",
       "      <th>10</th>\n",
       "      <td>1.000000e+00</td>\n",
       "      <td>1.000000e+00</td>\n",
       "      <td>1.000000e+00</td>\n",
       "      <td>0.000000e+00</td>\n",
       "      <td>1.000000e+00</td>\n",
       "    </tr>\n",
       "  </tbody>\n",
       "</table>\n",
       "</div>"
      ],
      "text/plain": [
       "              x          u_0          u_1         diff          u_2\n",
       "0  0.000000e+00 1.000000e+00 1.000000e+00 0.000000e+00 1.000000e+00\n",
       "1  1.000000e-01 1.007475e+00 1.006074e+00 1.400951e-03 1.004449e+00\n",
       "2  2.000000e-01 1.012849e+00 1.010043e+00 2.805989e-03 1.008000e+00\n",
       "3  3.000000e-01 1.016141e+00 1.011921e+00 4.219802e-03 1.009967e+00\n",
       "4  4.000000e-01 1.017361e+00 1.011714e+00 5.647106e-03 1.009888e+00\n",
       "5  5.000000e-01 1.016514e+00 1.009422e+00 7.092659e-03 1.007531e+00\n",
       "6  6.000000e-01 1.014075e+00 1.009422e+00 4.653397e-03 1.007531e+00\n",
       "7  7.000000e-01 1.011914e+00 1.008430e+00 3.484352e-03 1.006511e+00\n",
       "8  8.000000e-01 1.008851e+00 1.006531e+00 2.320223e-03 1.004697e+00\n",
       "9  9.000000e-01 1.004882e+00 1.003722e+00 1.159330e-03 1.002364e+00\n",
       "10 1.000000e+00 1.000000e+00 1.000000e+00 0.000000e+00 1.000000e+00"
      ]
     },
     "execution_count": 35,
     "metadata": {},
     "output_type": "execute_result"
    }
   ],
   "source": [
    "out_df"
   ]
  },
  {
   "cell_type": "markdown",
   "metadata": {},
   "source": [
    "$ u_0 $ - аналитическое решение модельной задачи\n",
    "\n",
    "$ u_1 $ - численное решение модельной задачи\n",
    "\n",
    "$ diff $ - погрешность\n",
    "\n",
    "$u_2$ -- численное решение задачи с переменными коэффициентами\n"
   ]
  }
 ],
 "metadata": {
  "kernelspec": {
   "display_name": "Python 3",
   "language": "python",
   "name": "python3"
  },
  "language_info": {
   "codemirror_mode": {
    "name": "ipython",
    "version": 3
   },
   "file_extension": ".py",
   "mimetype": "text/x-python",
   "name": "python",
   "nbconvert_exporter": "python",
   "pygments_lexer": "ipython3",
   "version": "3.8.2"
  }
 },
 "nbformat": 4,
 "nbformat_minor": 4
}
